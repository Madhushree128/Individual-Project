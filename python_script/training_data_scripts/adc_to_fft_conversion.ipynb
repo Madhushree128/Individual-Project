{
 "cells": [
  {
   "cell_type": "code",
   "execution_count": 2,
   "metadata": {},
   "outputs": [
    {
     "name": "stdout",
     "output_type": "stream",
     "text": [
      "FFT computation completed and results saved as .npy files.\n"
     ]
    }
   ],
   "source": [
    "import os\n",
    "import numpy as np\n",
    "import pandas as pd\n",
    "\n",
    "def process_data(directory):\n",
    "    # Fetch all CSV files in the directory\n",
    "    file_path = [os.path.join(directory, file) for file in os.listdir(directory) if file.endswith('.csv')]\n",
    "    \n",
    "    # Initialize a list to store data from all CSV files\n",
    "    df_list = []\n",
    "\n",
    "    # Loop through all CSV files\n",
    "    for file in file_path:\n",
    "        try:\n",
    "            # Read the CSV file without skipping any rows\n",
    "            df = pd.read_csv(file, sep='\\t', header=None, index_col=False, comment='#', on_bad_lines='warn')\n",
    "            df_list.append(df)\n",
    "        except pd.errors.ParserError as e:\n",
    "            print(f\"Error reading {file}: {e}\")\n",
    "\n",
    "    # Concatenate all DataFrames\n",
    "    combined_df = pd.concat(df_list, ignore_index=True)\n",
    "\n",
    "    # Extract ADC data from the first column\n",
    "    adc_data = combined_df.iloc[:, 0]\n",
    "\n",
    "    # Convert ADC data to a numpy float array\n",
    "    adc_array = pd.to_numeric(adc_data, errors='coerce').fillna(0).to_numpy()\n",
    "\n",
    "    return adc_array\n",
    "\n",
    "def compute_fft_and_save(adc_array, output_path):\n",
    "    # Apply a Hamming window to the data\n",
    "    window_ham = np.hamming(len(adc_array))\n",
    "    window_ham_data = adc_array * window_ham\n",
    "\n",
    "    # Perform FFT on the windowed data\n",
    "    fft_result = np.fft.fft(window_ham_data)\n",
    "\n",
    "    # Calculate frequency and magnitude\n",
    "    sampling_rate = 16000\n",
    "    n = len(adc_array)\n",
    "    freq = np.fft.fftfreq(n, d=1 / sampling_rate)\n",
    "    magnitude = np.abs(fft_result)\n",
    "\n",
    "    # Stack frequency and magnitude for saving as .npy\n",
    "    fft_data = np.stack((freq, magnitude), axis=-1)\n",
    "\n",
    "    # Save FFT data as an .npy file\n",
    "    np.save(output_path, fft_data)\n",
    "\n",
    "# Directory paths for human presence and absence data\n",
    "human_present_dir = \"C:/Users/madhu/Desktop/individual_project/training_data/new_sensor_train_data/with_human\"\n",
    "human_absent_dir = \"C:/Users/madhu/Desktop/individual_project/training_data/new_sensor_train_data/without_human\"  # Adjust as necessary\n",
    "\n",
    "# Output paths for FFT results\n",
    "output_dir = \"C:/Users/madhu/Desktop/individual_project/outputs/output_train/fft_output_training_data\"\n",
    "human_present_output = os.path.join(output_dir, \"fft_human_present.npy\")\n",
    "human_absent_output = os.path.join(output_dir, \"fft_human_absent.npy\")\n",
    "\n",
    "# Process ADC data for human presence and absence\n",
    "adc_array_human_present = process_data(human_present_dir)\n",
    "adc_array_human_absent = process_data(human_absent_dir)\n",
    "\n",
    "# Compute FFT and save for both conditions\n",
    "compute_fft_and_save(adc_array_human_present, human_present_output)\n",
    "compute_fft_and_save(adc_array_human_absent, human_absent_output)\n",
    "\n",
    "print(\"FFT computation completed and results saved as .npy files.\")\n"
   ]
  }
 ],
 "metadata": {
  "kernelspec": {
   "display_name": "Python 3",
   "language": "python",
   "name": "python3"
  },
  "language_info": {
   "codemirror_mode": {
    "name": "ipython",
    "version": 3
   },
   "file_extension": ".py",
   "mimetype": "text/x-python",
   "name": "python",
   "nbconvert_exporter": "python",
   "pygments_lexer": "ipython3",
   "version": "3.12.1"
  }
 },
 "nbformat": 4,
 "nbformat_minor": 2
}
