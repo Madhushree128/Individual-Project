{
 "cells": [
  {
   "cell_type": "markdown",
   "metadata": {},
   "source": [
    "Combining both the data of human presnt and human absent for testing and also generating label for the data "
   ]
  },
  {
   "cell_type": "code",
   "execution_count": 1,
   "metadata": {},
   "outputs": [
    {
     "name": "stdout",
     "output_type": "stream",
     "text": [
      "Human present file path: C:/Users/madhu/Desktop/individual_project/outputs/output_test/FFT_output\\fft_test_human_present.npy\n",
      "Human absent file path: C:/Users/madhu/Desktop/individual_project/outputs/output_test/FFT_output\\fft_test_human_absent.npy\n",
      "Combined FFT data saved at: C:/Users/madhu/Desktop/individual_project/outputs/output_test/Labels_output\\combined_test_fft_data.npy\n",
      "Combined labels saved at: C:/Users/madhu/Desktop/individual_project/outputs/output_test/Labels_output\\combined_test_labels.npy\n",
      "Labeling and saving completed successfully.\n"
     ]
    }
   ],
   "source": [
    "import os\n",
    "import numpy as np\n",
    "\n",
    "# Define input and output directories\n",
    "input_data_dir = \"C:/Users/madhu/Desktop/individual_project/outputs/output_test/FFT_output\"\n",
    "output_data_dir = \"C:/Users/madhu/Desktop/individual_project/outputs/output_test/Labels_output\"\n",
    "\n",
    "# Filenames for FFT data files (check for correct file names here)\n",
    "human_present_file = 'fft_test_human_present.npy'  # Adjusted file name\n",
    "human_absent_file = 'fft_test_human_absent.npy'    # Adjusted file name\n",
    "\n",
    "# Construct full file paths\n",
    "human_present_path = os.path.join(input_data_dir, human_present_file)\n",
    "human_absent_path = os.path.join(input_data_dir, human_absent_file)\n",
    "\n",
    "# Print paths for verification\n",
    "print(f\"Human present file path: {human_present_path}\")\n",
    "print(f\"Human absent file path: {human_absent_path}\")\n",
    "\n",
    "# Check if files exist before loading\n",
    "if not os.path.exists(human_present_path):\n",
    "    print(f\"Error: {human_present_path} does not exist.\")\n",
    "elif not os.path.exists(human_absent_path):\n",
    "    print(f\"Error: {human_absent_path} does not exist.\")\n",
    "else:\n",
    "    # Load FFT data\n",
    "    human_present_data = np.load(human_present_path)\n",
    "    human_absent_data = np.load(human_absent_path)\n",
    "\n",
    "    # Get the number of samples for each condition\n",
    "    num_human_present = human_present_data.shape[0]\n",
    "    num_human_absent = human_absent_data.shape[0]\n",
    "\n",
    "    # Generate labels: 1 for human present, 0 for human absent\n",
    "    label_present = np.ones(num_human_present)\n",
    "    label_absent = np.zeros(num_human_absent)\n",
    "\n",
    "    # Combine the data and labels\n",
    "    combined_data = np.vstack((human_present_data, human_absent_data))\n",
    "    combined_labels = np.hstack((label_present, label_absent))\n",
    "\n",
    "    # Save the combined data and labels as separate .npy files\n",
    "    combined_data_path = os.path.join(output_data_dir, 'combined_test_fft_data.npy')\n",
    "    combined_labels_path = os.path.join(output_data_dir, 'combined_test_labels.npy')\n",
    "\n",
    "    os.makedirs(output_data_dir, exist_ok=True)  # Create the output directory if it doesn't exist\n",
    "\n",
    "    np.save(combined_data_path, combined_data)\n",
    "    np.save(combined_labels_path, combined_labels)\n",
    "\n",
    "    print(f\"Combined FFT data saved at: {combined_data_path}\")\n",
    "    print(f\"Combined labels saved at: {combined_labels_path}\")\n",
    "    print(\"Labeling and saving completed successfully.\")\n"
   ]
  }
 ],
 "metadata": {
  "kernelspec": {
   "display_name": "Python 3",
   "language": "python",
   "name": "python3"
  },
  "language_info": {
   "codemirror_mode": {
    "name": "ipython",
    "version": 3
   },
   "file_extension": ".py",
   "mimetype": "text/x-python",
   "name": "python",
   "nbconvert_exporter": "python",
   "pygments_lexer": "ipython3",
   "version": "3.12.1"
  }
 },
 "nbformat": 4,
 "nbformat_minor": 2
}
